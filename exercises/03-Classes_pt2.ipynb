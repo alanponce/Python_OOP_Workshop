{
 "cells": [
  {
   "cell_type": "markdown",
   "metadata": {},
   "source": [
    "# Python OOP 2: Inheritance and Magic Methods"
   ]
  },
  {
   "cell_type": "markdown",
   "metadata": {},
   "source": [
    "The purpose of this exercise is to test your new found knowledge of inheritance using the classical example of shapes. You have been given the base class (`AbstractShape`) which has some common functions for certain derived shapes, such as a triangle and a rectangle. "
   ]
  },
  {
   "cell_type": "code",
   "execution_count": null,
   "metadata": {
    "collapsed": false
   },
   "outputs": [],
   "source": [
    "from IPython.core.display import HTML\n",
    "def css_styling():\n",
    "    sheet = '../css/custom.css'\n",
    "    styles = open(sheet, \"r\").read() \n",
    "    return HTML(styles)\n",
    "css_styling()"
   ]
  },
  {
   "cell_type": "markdown",
   "metadata": {},
   "source": [
    "## Tasks\n",
    "\n",
    "1. Create a Rectangle class which also derives for AbstractShape, with methods\n",
    "    * **__init__(self, base, height, center)**, which ONLY passes all arguments to the base class `__init__` via \n",
    "        \n",
    "           super(Rectangle, self).__init__(base, height, center)\n",
    "\n",
    "    * **get_vertices(self)**, which calculates and returns an array of vertices.\n",
    "        - vertices should contain the vertex (x,y) points of a rectangle centered at the center point `self.center`: numpy array with shape (4,2)\n",
    "        - Note that self.vertices in stored in the base class using a call to this method!\n",
    "        - **If you're struggling, the contents of this function are provided at the end of this notebook**\n",
    "    * **get_area(self)**, which calculates and returns the area of self (use attributes, not inputs)\n",
    "    \n",
    "    * Points to note:\n",
    "         - The code for testing this class has been provided for you\n",
    "         - Try to understand the order in which the initialisation functions are called.\n",
    "         - Which methods are being called (from which classes) in the base initialiser?\n",
    "\n",
    "2. Repeat 1. above for a Triangle class\n",
    "    * Class layout is identical, but **get_vertices** and **get_area** different\n",
    "    * **If you're struggling, the contents of this function are provided at the end of this notebook**\n",
    "\n",
    "3. You have also been given a `Cuboid` class which has inherited a plot method, but this will plot only the 2D square\n",
    "    * Override the **plot(self, ax)** method to scatter self.vertices (x, y, z) on the input axes\n",
    "    - Note that the input axes given in the test code are already 3D axes - you do not need to implement this\n",
    "\n",
    "4. See the end of this notebook for the magic methods extension"
   ]
  },
  {
   "cell_type": "code",
   "execution_count": null,
   "metadata": {
    "collapsed": false
   },
   "outputs": [],
   "source": [
    "import numpy as np\n",
    "import matplotlib.pyplot as plt\n",
    "from mpl_toolkits.mplot3d import Axes3D\n",
    "from mpl_toolkits.mplot3d.art3d import Poly3DCollection\n",
    "%matplotlib inline"
   ]
  },
  {
   "cell_type": "code",
   "execution_count": null,
   "metadata": {
    "collapsed": false
   },
   "outputs": [],
   "source": [
    "class AbstractShape(object):\n",
    "    \"\"\"A class that shares common methods between rectangles and triangles:\n",
    "\n",
    "    Note that some methods raise an error - what we are doing here is \n",
    "    actually creating 'abstract methods' which helps achieve a consistent\n",
    "    API through all derived classes => This is Polymorphism!\n",
    "    \n",
    "    See example 07-PredatorPrey for a more robust way of defining abstract \n",
    "    base classes\n",
    "    \"\"\"\n",
    "    def __init__(self, base, height, center):\n",
    "        # Add all args as attributes- there are quicker/better ways\n",
    "        # of doing this, but this is fine\n",
    "        self.base = base\n",
    "        self.height = height\n",
    "        self.center = center\n",
    "        \n",
    "        # Call some methods: This will do nothing unless the methods are \n",
    "        # defined in the base classes!\n",
    "        self.vertices = self.get_vertices()\n",
    "        self.area = self.get_area()\n",
    "\n",
    "        \n",
    "    def plot(self, ax):\n",
    "        # First point must be repeated for a closed plot\n",
    "        x = np.hstack([self.vertices[:, 0], self.vertices[0, 0]])\n",
    "        y = np.hstack([self.vertices[:, 1], self.vertices[0, 1]])\n",
    "\n",
    "        ax.plot(x, y, '-')\n",
    "    \n",
    "    def get_vertices(self):\n",
    "        raise NotImplementedError('Base class method should not be called directly')\n",
    "\n",
    "    def get_area(self):\n",
    "        raise NotImplementedError('Base class method should not be called directly')\n",
    "\n",
    "\n",
    "# Your classes here\n",
    "# .................\n",
    "\n",
    "\n",
    "\n",
    "\n",
    "class Cuboid(Rectangle):\n",
    "    def __init__(self, base, height, depth, center):\n",
    "        self.depth = depth\n",
    "        super(Cuboid, self).__init__(base, height, center)\n",
    "    \n",
    "    def get_vertices(self):\n",
    "        base2d = super(Cuboid, self).get_vertices()\n",
    "        midplane = np.zeros([4,3])\n",
    "        midplane[:,:-1] = base2d\n",
    "        zshift = np.array([0, 0, self.depth/2.])\n",
    "        lower_plane = midplane - zshift\n",
    "        upper_plane = midplane + zshift\n",
    "        return np.vstack([lower_plane, upper_plane])\n",
    "\n",
    "\n",
    "# Helper functions:\n",
    "\n",
    "def init_figure():\n",
    "    fig = plt.figure()\n",
    "    ax = fig.add_subplot(111)\n",
    "    plt.axis('equal')\n",
    "    return fig, ax\n",
    "\n",
    "def init_3dfigure():\n",
    "    fig = plt.figure()\n",
    "    ax = fig.add_subplot(111, projection='3d')\n",
    "    return fig, ax"
   ]
  },
  {
   "cell_type": "code",
   "execution_count": null,
   "metadata": {
    "collapsed": false
   },
   "outputs": [],
   "source": [
    "# Test code for the rectangle class:\n",
    "fig, ax = init_figure()\n",
    "for i in range(1,5):\n",
    "    rect = Rectangle(base=i, height=i, center=(0.,0.))\n",
    "    rect.plot(ax)"
   ]
  },
  {
   "cell_type": "code",
   "execution_count": null,
   "metadata": {
    "collapsed": false
   },
   "outputs": [],
   "source": [
    "# Test code for the triangle class:\n",
    "fig, ax = init_figure()\n",
    "\n",
    "for height in range(1,5):\n",
    "    tri = Triangle(base=4, height=height, center=(0.,0.))\n",
    "    tri.plot(ax)"
   ]
  },
  {
   "cell_type": "code",
   "execution_count": null,
   "metadata": {
    "collapsed": false
   },
   "outputs": [],
   "source": [
    "#Tests for the cuboid extension:\n",
    "fig, ax = init_3dfigure()\n",
    "\n",
    "cube = Cuboid(base=2, height=2, center=(0.,0.), depth=2)\n",
    "\n",
    "cube.plot(ax)"
   ]
  },
  {
   "cell_type": "markdown",
   "metadata": {},
   "source": [
    "## Magic Methods Extension\n",
    "\n",
    "1. Override the `__str__` magic method in the `AbstractShape` base class so that printing gives information about the area, base and height store in any shape instance\n",
    "\n",
    "2. Override the iterator magic method in the `AbstractShape` base class so that iterating over any derived shape instance will iterate over its vertices"
   ]
  },
  {
   "cell_type": "code",
   "execution_count": null,
   "metadata": {
    "collapsed": false
   },
   "outputs": [],
   "source": [
    "# Test code for __str__\n",
    "square = Rectangle(4, 4, center=(0.,0.))\n",
    "print(square)               # Did this do what you expected?"
   ]
  },
  {
   "cell_type": "code",
   "execution_count": null,
   "metadata": {
    "collapsed": false
   },
   "outputs": [],
   "source": [
    "# Test code for iterator\n",
    "for vertex in square:\n",
    "    print(vertex)"
   ]
  },
  {
   "cell_type": "markdown",
   "metadata": {},
   "source": [
    "## Cheat Sheet\n",
    "\n",
    "1. Code for `Triangle.get_vertices`:\n",
    "\n",
    "        pts = np.ones([3, 2]) * self.center\n",
    "        pts[0,:] += np.array([-self.base/2., 0])\n",
    "        pts[1,:] += np.array([self.base/2., 0])\n",
    "        pts[2,:] += np.array([0, self.height])\n",
    "        return pts\n",
    "\n",
    "2. Code for `Rectangle.get_vertices`:\n",
    "        pts = np.ones([4, 2]) * self.center\n",
    "        xshift = self.base / 2.\n",
    "        yshift = self.height / 2.\n",
    "        pts[0,:] += np.array([-xshift, -yshift])\n",
    "        pts[1,:] += np.array([xshift, -yshift])\n",
    "        pts[2,:] += np.array([xshift, yshift])\n",
    "        pts[3,:] += np.array([-xshift, yshift])\n",
    "        return pts"
   ]
  },
  {
   "cell_type": "markdown",
   "metadata": {},
   "source": [
    "# [Solutions](../soln/03-Classes_pt2.html)\n"
   ]
  }
 ],
 "metadata": {
  "kernelspec": {
   "display_name": "Python 3",
   "language": "python",
   "name": "python3"
  },
  "language_info": {
   "codemirror_mode": {
    "name": "ipython",
    "version": 3
   },
   "file_extension": ".py",
   "mimetype": "text/x-python",
   "name": "python",
   "nbconvert_exporter": "python",
   "pygments_lexer": "ipython3",
   "version": "3.5.1"
  }
 },
 "nbformat": 4,
 "nbformat_minor": 0
}
